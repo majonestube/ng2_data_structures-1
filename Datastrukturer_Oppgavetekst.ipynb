{
 "cells": [
  {
   "attachments": {},
   "cell_type": "markdown",
   "metadata": {},
   "source": [
    "# Datastrukturer\n",
    "Denne innleveringen handler om datastrukturer: Enkeltlenkede lister, stack, kø, prioritetskø, og indeksert liste. Dette er byggeblokker som brukes i flere av algoritmene du skal implementere senere i kurset. Python har biblioteker med ferdige implementasjoner av datastrukturene, men for at du skal skjønne hvordan de fungerer, skal du implementere dem fra grunnen av. \n",
    "\n",
    "Denne notebook'en gir en beskrivelse av oppgavene du skal gjøre. Du skal lage din implementasjon av de ulike datastrukturene i fila data_structures.py. Mens du jobber med implementasjonen kan du teste koden din med enhetstestene som ligger i fila data_structures_test.py. Du kan kjøre testene lokalt ved kun å kalle\n",
    "~~~\n",
    "pytest\n",
    "~~~\n",
    "mens du står inne i mappa med koden (pytest vil automatisk kjøre kode i filer som begynner med 'test\\_' eller slutter med '\\_test.py'). Når du commit'er og push'er koden din til GitHub, vil de samme testene kjøres der, og du får poeng basert på hvor mange av testene som kjører uten å feile. Antall poeng er tilpasset arbeidsmengde og vanskelighetsgrad. Du kan sende inn så mange versjoner av koden din som du vil (inntil leveringsfristen går ut). Det er en god vane å commit'e kode hver gang du har gjort noe nytt, f.eks. å ha implementert ferdig en klasse eller en metode. Merk at det _ikke_ er lov å endre enhetstestene - kun koden i data_structures.py skal endres.\n",
    "\n",
    "Koden under definerer en helt enkel \"node\"-klasse som du skal bruke i din implementasjon. Du skal bruke denne når du implementerer ulike typer lister. Hver node har to egenskaper: \"Data\", som er innholdet i noden, og \"next\", som er en peker til neste element i lista. "
   ]
  },
  {
   "cell_type": "code",
   "execution_count": 1,
   "metadata": {},
   "outputs": [],
   "source": [
    "class Node:\n",
    "    def __init__(self,data=None,next=None):\n",
    "        self.data = data\n",
    "        self.next = next "
   ]
  },
  {
   "attachments": {},
   "cell_type": "markdown",
   "metadata": {},
   "source": [
    "# Enkeltlenket liste\n",
    "En enkeltlenket liste består av en serie med node der hver node har data (innhold) og en _enkelt_ peker til den neste noden i lista. Pekeren kalles ofte \"next\". En dobbeltlenket liste er veldig lik, men i tillegg til \"next\" har hver node en \"previous\"-peker. I noen sammenhenger er dette en fordel. Her skal vi imidlertid kun se på enkeltlenkede lister.  \n",
    "\n",
    "Et enkelt eksempel kan se slik ut:\n",
    "~~~\n",
    "    A -> B -> C -> None\n",
    "~~~\n",
    "I denne enkeltlenkede listen er A første element og peker på B, som i sin tur peker på C. Selv om C er sist i lista har også den en \"next\"-peker, men denne peker på \"None\". Dette brukes som indikator på at vi har nådd enden av lista.\n",
    "\n",
    "# Stack\n",
    "En [stack](https://en.wikipedia.org/wiki/Stack_(abstract_data_type)) er et spesialtilfelle av en lenket liste, der elementene kun legges til eller fjernes fra den ene enden av lista (kalles \"top\" eller \"head\"). Se for deg at du setter legger inn rene tallerkener i et kjøkkenskap, en om gangen. Den siste tallerkenen du legger til (\"push\") blir liggende på toppen. Dette er også den første tallerkenen du fjerner (\"pop\"). Dette kalles også last-in-first-out (LIFO). Man kan også sjekke hvilken tallerken som ligger på toppen uten å fjerne den (\"peek\"). "
   ]
  },
  {
   "attachments": {},
   "cell_type": "markdown",
   "metadata": {},
   "source": [
    "### _Oppgave 1: Implementer en stack_\n",
    "Bruk Node-klassen implementert over og implementer en stack basert på startkoden i Stack-klassen i data_structures.py. Dersom man \"popper\" fra en tom stack skal dette gi en IndexError."
   ]
  },
  {
   "attachments": {},
   "cell_type": "markdown",
   "metadata": {},
   "source": [
    "# Kø\n",
    "En kø er en lenket liste der elementene legges til (\"enqueue\") bakerst i køen (\"tail\") og fjernes (\"dequeue\") fra fremre ende av køen (\"head\") - akkurat som når man står i en vanlig fysisk kø. I en effektiv implementasjon av en kø trenger man pekere til både \"head\" og \"tail\"-nodene. Dersom køen har bare ett element er \"head\" og \"tail\" samme node. Hvis køen er tom, er \"head\" og \"tail\" begge None.\n",
    "\n",
    "### _Oppgave 2: Implementer en kø_\n",
    "Implementer en kø med tilhørende metoder basert på startkoden i Queue-klassen i data_structures.py. Dersom man kaller dequeue() på en tom kø, skal det gi opphav til en IndexError. "
   ]
  },
  {
   "attachments": {},
   "cell_type": "markdown",
   "metadata": {},
   "source": [
    "# Prioritetskø\n",
    "En [prioritetskø](https://en.wikipedia.org/wiki/Priority_queue) består av mange elementer som har to egenskaper: En verdi (\"data\") og en _prioritet_. Hver gang man legger til eller fjerner et element fra køen, eller oppdaterer et element som finnes i køen, oppdateres køen slik at elementet med høyest prioritet ligger \"øverst\" eller \"fremst\". I oppgaven under brukes denne strukturen for å implementere et køsystem på legevakta. Pasientene med de mest alvorlige skadene får høyest prioritet og plukkes først ut av køen. \n",
    "\n",
    "Vi skal bruke prioritetskøer senere, blant annet for å implementere søkealgoritmer, og introduserer dem derfor her. Det er mulig å implementere slike køer med lenkede lister, men det er mer effektivt å bruke heaps. I oppgaven under skal du bruke modulen [heapdict](https://pypi.org/project/HeapDict/) for å lage køsystemet (det blir litt for komplisert å implementere alt fra grunnen her). Syntaksen for en heapdict er den samme som for en dict, med den forskjellen at \"key\" tilsvarer verdien til elementet i køen, og \"value\" tilsvarer prioriteten. Heapdict er implementert med en \"min-heap\", og det betyr at elementet med _lavest_ verdi for prioritet ligger _fremst_ i køen.\n",
    "\n",
    "~~~\n",
    "hd = heapdict.heapdict()\n",
    "hd[data1] = priority1\n",
    "hd[data2] = priority2\n",
    "~~~\n",
    "\n",
    "### _Oppgave 3: Implementer en prioritetskø_\n",
    "Implementer en prioritetskø basert på startkoden i EmergencyRoomQueue-klassen i data_structures.py, samt \"heapdict\"-modulen. "
   ]
  },
  {
   "attachments": {},
   "cell_type": "markdown",
   "metadata": {},
   "source": [
    "# Indeksert liste\n",
    "I en indeksert lenket liste er det en indeks assosiert med hver node i lista. Den første noden har indeks 0, neste node har indeks 1, og så videre. Denne datastrukturen ligner mye på vanlige lister i Python. I denne oppgaven skal vi imidlertid implementere dette fra grunnen heller enn å bruke den innebygde listeklassen.\n",
    "\n",
    "Et enkelt eksempel på en indeksert liste kan se slik ut:\n",
    "| Indeks         | 0 | 1 | 2 |\n",
    "| ---------------|---|---|---|\n",
    "| Node (data)    | A | X | G |\n",
    "\n",
    "Hvis vi bruker syntaksen \\<Nodedata\\>(Indeks) kan vi illustrere samme liste med både indekser og pekere til neste element i lista.\n",
    "~~~\n",
    "A(0) -> X(1) -> G(2) -> None \n",
    "~~~\n",
    "Gjennom å bruke indekser får vi større fleksibilitet - det blir mulig å aksessere elementer \"midt i\" lista, og ikke bare på endene. Innsetting og fjerning av noder er imidlertid mer komplisert enn i stack og queue.\n",
    "\n",
    "\n",
    "### _Oppgave 4: Implementer en indeksert lenket liste_\n",
    "Implementer en indeksert enkeltlenket liste basert på startkoden i IndexList-klassen i data_structures.py. Hvis man bruker en indeks som er utenfor lista, eller prøver å \"poppe\" fra ei tom liste, skal det gi en IndexError."
   ]
  }
 ],
 "metadata": {
  "kernelspec": {
   "display_name": "intro-ml-ai",
   "language": "python",
   "name": "python3"
  },
  "language_info": {
   "codemirror_mode": {
    "name": "ipython",
    "version": 3
   },
   "file_extension": ".py",
   "mimetype": "text/x-python",
   "name": "python",
   "nbconvert_exporter": "python",
   "pygments_lexer": "ipython3",
   "version": "3.9.12"
  },
  "orig_nbformat": 4
 },
 "nbformat": 4,
 "nbformat_minor": 2
}
